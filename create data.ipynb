{
 "cells": [
  {
   "cell_type": "code",
   "execution_count": 3,
   "metadata": {},
   "outputs": [],
   "source": [
    "# create dataframe with pandas\n",
    "dic = {\"pizza_name\":[\"Hawaii\",\"Diablo\",\"Pepperoni\",\"Hawaii\",\"Diablo\",\"Pepperoni\"],\"company_name\":[\"A\",\"A\",\"A\",\"B\",\"B\",\"B\"],\"price\":[5,7,9,8,12,14],\"sale_2020\":[1000,700,1400,800,300,600]}"
   ]
  },
  {
   "cell_type": "code",
   "execution_count": 4,
   "metadata": {},
   "outputs": [],
   "source": [
    "import pandas as pd\n",
    "df = pd.DataFrame(dic)"
   ]
  },
  {
   "cell_type": "code",
   "execution_count": 3,
   "metadata": {},
   "outputs": [
    {
     "data": {
      "text/html": [
       "<div>\n",
       "<style scoped>\n",
       "    .dataframe tbody tr th:only-of-type {\n",
       "        vertical-align: middle;\n",
       "    }\n",
       "\n",
       "    .dataframe tbody tr th {\n",
       "        vertical-align: top;\n",
       "    }\n",
       "\n",
       "    .dataframe thead th {\n",
       "        text-align: right;\n",
       "    }\n",
       "</style>\n",
       "<table border=\"1\" class=\"dataframe\">\n",
       "  <thead>\n",
       "    <tr style=\"text-align: right;\">\n",
       "      <th></th>\n",
       "      <th>pizza_name</th>\n",
       "      <th>company_name</th>\n",
       "      <th>price</th>\n",
       "      <th>sale_2020</th>\n",
       "    </tr>\n",
       "  </thead>\n",
       "  <tbody>\n",
       "    <tr>\n",
       "      <th>0</th>\n",
       "      <td>Hawaii</td>\n",
       "      <td>A</td>\n",
       "      <td>5</td>\n",
       "      <td>1000</td>\n",
       "    </tr>\n",
       "    <tr>\n",
       "      <th>1</th>\n",
       "      <td>Diablo</td>\n",
       "      <td>A</td>\n",
       "      <td>7</td>\n",
       "      <td>700</td>\n",
       "    </tr>\n",
       "    <tr>\n",
       "      <th>2</th>\n",
       "      <td>Pepperoni</td>\n",
       "      <td>A</td>\n",
       "      <td>9</td>\n",
       "      <td>1400</td>\n",
       "    </tr>\n",
       "    <tr>\n",
       "      <th>3</th>\n",
       "      <td>Hawaii</td>\n",
       "      <td>B</td>\n",
       "      <td>8</td>\n",
       "      <td>800</td>\n",
       "    </tr>\n",
       "    <tr>\n",
       "      <th>4</th>\n",
       "      <td>Diablo</td>\n",
       "      <td>B</td>\n",
       "      <td>12</td>\n",
       "      <td>300</td>\n",
       "    </tr>\n",
       "    <tr>\n",
       "      <th>5</th>\n",
       "      <td>Pepperoni</td>\n",
       "      <td>B</td>\n",
       "      <td>14</td>\n",
       "      <td>600</td>\n",
       "    </tr>\n",
       "  </tbody>\n",
       "</table>\n",
       "</div>"
      ],
      "text/plain": [
       "  pizza_name company_name  price  sale_2020\n",
       "0     Hawaii            A      5       1000\n",
       "1     Diablo            A      7        700\n",
       "2  Pepperoni            A      9       1400\n",
       "3     Hawaii            B      8        800\n",
       "4     Diablo            B     12        300\n",
       "5  Pepperoni            B     14        600"
      ]
     },
     "execution_count": 3,
     "metadata": {},
     "output_type": "execute_result"
    }
   ],
   "source": [
    "df"
   ]
  },
  {
   "cell_type": "code",
   "execution_count": 1,
   "metadata": {},
   "outputs": [],
   "source": [
    "#or create csv file with csv module and read it with pandas into DataFrame\n",
    "import csv\n",
    "with open(\"pizza\",mode = \"w\") as f:\n",
    "    fw = csv.writer(f,delimiter = \",\")\n",
    "    fw.writerow([\"pizza_name\",\"company_name\",\"price\",\"sale_2020\"])\n",
    "    fw.writerow([\"Hawaii\",\"A\",\"5\",\"1000\"])\n",
    "    fw.writerow([\"Diablo\",\"A\",\"7\",\"700\"])\n",
    "    fw.writerow([\"Peppereni\",\"A\",\"9\",\"1400\"])\n",
    "    fw.writerow([\"Hawaii\",\"B\",\"8\",\"800\"])\n",
    "    fw.writerow([\"Diablo\",\"B\",\"12\",\"300\"])\n",
    "    fw.writerow([\"Pepperoni\",\"B\",\"14\",\"600\"])"
   ]
  },
  {
   "cell_type": "code",
   "execution_count": 5,
   "metadata": {},
   "outputs": [],
   "source": [
    "dfr = pd.read_csv(\"pizza\")"
   ]
  },
  {
   "cell_type": "code",
   "execution_count": 6,
   "metadata": {},
   "outputs": [
    {
     "data": {
      "text/html": [
       "<div>\n",
       "<style scoped>\n",
       "    .dataframe tbody tr th:only-of-type {\n",
       "        vertical-align: middle;\n",
       "    }\n",
       "\n",
       "    .dataframe tbody tr th {\n",
       "        vertical-align: top;\n",
       "    }\n",
       "\n",
       "    .dataframe thead th {\n",
       "        text-align: right;\n",
       "    }\n",
       "</style>\n",
       "<table border=\"1\" class=\"dataframe\">\n",
       "  <thead>\n",
       "    <tr style=\"text-align: right;\">\n",
       "      <th></th>\n",
       "      <th>pizza_name</th>\n",
       "      <th>company_name</th>\n",
       "      <th>price</th>\n",
       "      <th>sale_2020</th>\n",
       "    </tr>\n",
       "  </thead>\n",
       "  <tbody>\n",
       "    <tr>\n",
       "      <th>0</th>\n",
       "      <td>Hawaii</td>\n",
       "      <td>A</td>\n",
       "      <td>5</td>\n",
       "      <td>1000</td>\n",
       "    </tr>\n",
       "    <tr>\n",
       "      <th>1</th>\n",
       "      <td>Diablo</td>\n",
       "      <td>A</td>\n",
       "      <td>7</td>\n",
       "      <td>700</td>\n",
       "    </tr>\n",
       "    <tr>\n",
       "      <th>2</th>\n",
       "      <td>Peppereni</td>\n",
       "      <td>A</td>\n",
       "      <td>9</td>\n",
       "      <td>1400</td>\n",
       "    </tr>\n",
       "    <tr>\n",
       "      <th>3</th>\n",
       "      <td>Hawaii</td>\n",
       "      <td>B</td>\n",
       "      <td>8</td>\n",
       "      <td>800</td>\n",
       "    </tr>\n",
       "    <tr>\n",
       "      <th>4</th>\n",
       "      <td>Diablo</td>\n",
       "      <td>B</td>\n",
       "      <td>12</td>\n",
       "      <td>300</td>\n",
       "    </tr>\n",
       "    <tr>\n",
       "      <th>5</th>\n",
       "      <td>Pepperoni</td>\n",
       "      <td>B</td>\n",
       "      <td>14</td>\n",
       "      <td>600</td>\n",
       "    </tr>\n",
       "  </tbody>\n",
       "</table>\n",
       "</div>"
      ],
      "text/plain": [
       "  pizza_name company_name  price  sale_2020\n",
       "0     Hawaii            A      5       1000\n",
       "1     Diablo            A      7        700\n",
       "2  Peppereni            A      9       1400\n",
       "3     Hawaii            B      8        800\n",
       "4     Diablo            B     12        300\n",
       "5  Pepperoni            B     14        600"
      ]
     },
     "execution_count": 6,
     "metadata": {},
     "output_type": "execute_result"
    }
   ],
   "source": [
    "dfr"
   ]
  },
  {
   "cell_type": "code",
   "execution_count": null,
   "metadata": {},
   "outputs": [],
   "source": []
  }
 ],
 "metadata": {
  "kernelspec": {
   "display_name": "Python 3",
   "language": "python",
   "name": "python3"
  },
  "language_info": {
   "codemirror_mode": {
    "name": "ipython",
    "version": 3
   },
   "file_extension": ".py",
   "mimetype": "text/x-python",
   "name": "python",
   "nbconvert_exporter": "python",
   "pygments_lexer": "ipython3",
   "version": "3.8.5"
  }
 },
 "nbformat": 4,
 "nbformat_minor": 4
}
